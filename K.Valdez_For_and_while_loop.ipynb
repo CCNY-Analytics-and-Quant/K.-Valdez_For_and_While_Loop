{
 "cells": [
  {
   "cell_type": "code",
   "execution_count": 1,
   "metadata": {},
   "outputs": [],
   "source": [
    "principal = 975\n",
    "rf_rate= 0.25"
   ]
  },
  {
   "cell_type": "code",
   "execution_count": 2,
   "metadata": {},
   "outputs": [
    {
     "data": {
      "text/plain": [
       "243.75"
      ]
     },
     "execution_count": 2,
     "metadata": {},
     "output_type": "execute_result"
    }
   ],
   "source": [
    "principal * rf_rate"
   ]
  },
  {
   "cell_type": "code",
   "execution_count": 3,
   "metadata": {},
   "outputs": [
    {
     "data": {
      "text/plain": [
       "150.0"
      ]
     },
     "execution_count": 3,
     "metadata": {},
     "output_type": "execute_result"
    }
   ],
   "source": [
    "principal = int(input(\"What is the principal value? \"))\n",
    "rf_rate = float(input(\"What is the risk-free rate (in percent)? \")) / 100\n",
    "\n",
    "principal * rf_rate"
   ]
  },
  {
   "cell_type": "code",
   "execution_count": 4,
   "metadata": {},
   "outputs": [
    {
     "data": {
      "text/plain": [
       "881500"
      ]
     },
     "execution_count": 4,
     "metadata": {},
     "output_type": "execute_result"
    }
   ],
   "source": [
    "retire_age = 65\n",
    "my_age = 22\n",
    "four01K_contrib = 20500\n",
    "\n",
    "(retire_age - my_age) * (four01K_contrib)"
   ]
  },
  {
   "cell_type": "markdown",
   "metadata": {},
   "source": [
    "Result is the total contributions ^\n",
    "\n",
    "There is some level of interest earned/ return on this.\n",
    "\n",
    "Calculate that  ^"
   ]
  },
  {
   "cell_type": "code",
   "execution_count": 5,
   "metadata": {},
   "outputs": [
    {
     "name": "stdout",
     "output_type": "stream",
     "text": [
      "0\n",
      "1\n",
      "2\n",
      "3\n",
      "4\n",
      "5\n",
      "6\n",
      "7\n",
      "8\n",
      "9\n",
      "10\n",
      "11\n",
      "12\n",
      "13\n",
      "14\n",
      "15\n",
      "16\n",
      "17\n",
      "18\n",
      "19\n",
      "20\n",
      "21\n",
      "22\n",
      "23\n",
      "24\n",
      "25\n",
      "26\n",
      "27\n",
      "28\n",
      "29\n",
      "30\n",
      "31\n",
      "32\n",
      "33\n",
      "34\n",
      "35\n",
      "36\n",
      "37\n",
      "38\n",
      "39\n",
      "40\n",
      "41\n",
      "42\n",
      "43\n"
     ]
    }
   ],
   "source": [
    "retire_age = 65\n",
    "my_age = 21\n",
    "four01k_contrib = float(input(\"How much is your 401K contribution? \"))\n",
    "\n",
    "for age in range (retire_age - my_age):\n",
    "\n",
    "        print(age)"
   ]
  },
  {
   "cell_type": "code",
   "execution_count": 2,
   "metadata": {},
   "outputs": [
    {
     "name": "stdout",
     "output_type": "stream",
     "text": [
      "0 22550.0\n",
      "1 47355.0\n",
      "2 74640.5\n",
      "3 104654.55\n",
      "4 137670.005\n",
      "5 173987.0055\n",
      "6 213935.70605\n",
      "7 257879.276655\n",
      "8 306217.2043205\n",
      "9 359388.92475255\n",
      "10 417877.81722780503\n",
      "11 482215.5989505855\n",
      "12 552987.1588456441\n",
      "13 630835.8747302085\n",
      "14 716469.4622032294\n",
      "15 810666.4084235524\n",
      "16 914283.0492659076\n",
      "17 1028261.3541924984\n",
      "18 1153637.4896117481\n",
      "19 1291551.238572923\n",
      "20 1443256.3624302153\n",
      "21 1610131.998673237\n",
      "22 1793695.1985405607\n",
      "23 1995614.7183946166\n",
      "24 2217726.190234078\n",
      "25 2462048.809257486\n",
      "26 2730803.6901832344\n",
      "27 3026434.0592015577\n",
      "28 3351627.4651217135\n",
      "29 3709340.211633885\n",
      "30 4102824.2327972734\n",
      "31 4535656.656077001\n",
      "32 5011772.321684701\n",
      "33 5535499.553853172\n",
      "34 6111599.509238489\n",
      "35 6745309.460162338\n",
      "36 7442390.406178571\n",
      "37 8209179.446796428\n",
      "38 9052647.39147607\n",
      "39 9980462.130623678\n",
      "40 11001058.343686046\n",
      "41 12123714.178054651\n",
      "42 13358635.595860116\n",
      "43 14717049.155446127\n"
     ]
    }
   ],
   "source": [
    "# for loop\n",
    "retire_age = 65\n",
    "my_age = int(input(\"What is your age? \"))\n",
    "four01k_contrib = float(input(\"How much is your 401K contribution? \"))\n",
    "quotient = 1/10\n",
    "\n",
    "balance = 0\n",
    "\n",
    "for age in range (retire_age - my_age):\n",
    "        balance = (balance + four01k_contrib)\n",
    "        growth = balance * quotient\n",
    "        balance = balance + growth\n",
    "        print(age, balance)\n",
    "        "
   ]
  },
  {
   "cell_type": "code",
   "execution_count": 4,
   "metadata": {},
   "outputs": [
    {
     "name": "stdout",
     "output_type": "stream",
     "text": [
      "243293.99999999997\n"
     ]
    }
   ],
   "source": [
    "# Identifying different life expenses\n",
    "housing = 2500 * 12\n",
    "groceries = 600 * 12\n",
    "electric = 150 * 12\n",
    "WiFi = 120 * 12\n",
    "gas = 100 * 12\n",
    "water = 60 * 12\n",
    "healthcare = 600 * 12\n",
    "car = 2500 * 12\n",
    "travel = 10000 * 12\n",
    "entertainment = 1000 * 12\n",
    "\n",
    "expenses = housing + groceries + electric + WiFi + gas + water + healthcare + car + travel + entertainment\n",
    "\n",
    "# Including capital gains:\n",
    "\n",
    "expenses = expenses * 1.15\n",
    "\n",
    "print(expenses)"
   ]
  },
  {
   "cell_type": "code",
   "execution_count": 5,
   "metadata": {},
   "outputs": [
    {
     "data": {
      "text/plain": [
       "2432940.0"
      ]
     },
     "execution_count": 5,
     "metadata": {},
     "output_type": "execute_result"
    }
   ],
   "source": [
    "# Finding out the money needed to retire\n",
    "Money_to_retire = round(expenses/.10,2)\n",
    "Money_to_retire"
   ]
  },
  {
   "cell_type": "code",
   "execution_count": 36,
   "metadata": {},
   "outputs": [
    {
     "name": "stdout",
     "output_type": "stream",
     "text": [
      "You will be 42 years old when you reach your expense total of 2435607.460258028 dollars.\n"
     ]
    }
   ],
   "source": [
    "# While loop\n",
    "retire_age = 65\n",
    "my_age = int(input(\"What is your age? \"))\n",
    "four01k_contrib = float(input(\"How much is your 401K contribution? \"))\n",
    "\n",
    "interest = 0.15 + 1\n",
    "balance = 0\n",
    "\n",
    "while balance < Money_to_retire:\n",
    "    balance = (balance * interest) + four01k_contrib\n",
    "    my_age += 1\n",
    "\n",
    "print (\"You will be \" + str(my_age)+ \" years old when you reach your expense total of \" + str(balance) + \" dollars.\")\n",
    "\n"
   ]
  }
 ],
 "metadata": {
  "kernelspec": {
   "display_name": "Python 3.8.9 64-bit",
   "language": "python",
   "name": "python3"
  },
  "language_info": {
   "codemirror_mode": {
    "name": "ipython",
    "version": 3
   },
   "file_extension": ".py",
   "mimetype": "text/x-python",
   "name": "python",
   "nbconvert_exporter": "python",
   "pygments_lexer": "ipython3",
   "version": "3.8.9"
  },
  "orig_nbformat": 4,
  "vscode": {
   "interpreter": {
    "hash": "31f2aee4e71d21fbe5cf8b01ff0e069b9275f58929596ceb00d14d90e3e16cd6"
   }
  }
 },
 "nbformat": 4,
 "nbformat_minor": 2
}
